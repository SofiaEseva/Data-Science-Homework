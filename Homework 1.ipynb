{
 "cells": [
  {
   "cell_type": "markdown",
   "id": "ae78393b",
   "metadata": {},
   "source": [
    "Даны три множества a,b и с. Необходимо выполнить все изученные виды бинарных\n",
    "операций над всеми комбинациями множеств."
   ]
  },
  {
   "cell_type": "code",
   "execution_count": 1,
   "id": "1801ee0e",
   "metadata": {},
   "outputs": [],
   "source": [
    "import numpy as np"
   ]
  },
  {
   "cell_type": "code",
   "execution_count": 43,
   "id": "e21ceb6d",
   "metadata": {},
   "outputs": [],
   "source": [
    "A = {0, 1, 2, 5, 7, 8, 9, 11, 12, 15, 22}\n",
    "B = {1, 2, 3, 4, 5, 6, 7, 8, 9, 10}\n",
    "C = {2, 4, 6, 8, 10, 12, 14}"
   ]
  },
  {
   "cell_type": "code",
   "execution_count": 47,
   "id": "fadaf5b6",
   "metadata": {
    "scrolled": true
   },
   "outputs": [
    {
     "name": "stdout",
     "output_type": "stream",
     "text": [
      "{0, 1, 2, 3, 4, 5, 6, 7, 8, 9, 10, 11, 12, 14, 15, 22}\n",
      "{0, 1, 2, 3, 4, 5, 6, 7, 8, 9, 10, 11, 12, 14, 15, 22}\n"
     ]
    }
   ],
   "source": [
    "# Объединение множеств\n",
    "print(A | B | C)\n",
    "print(B.union(A, C))"
   ]
  },
  {
   "cell_type": "code",
   "execution_count": 48,
   "id": "1cf52426",
   "metadata": {
    "scrolled": true
   },
   "outputs": [
    {
     "name": "stdout",
     "output_type": "stream",
     "text": [
      "{8, 2}\n",
      "{8, 2}\n"
     ]
    }
   ],
   "source": [
    "# Пересечение множеств\n",
    "print(A & B & C)\n",
    "print(B.intersection(A, C))"
   ]
  },
  {
   "cell_type": "code",
   "execution_count": 49,
   "id": "47c3f9e7",
   "metadata": {},
   "outputs": [
    {
     "name": "stdout",
     "output_type": "stream",
     "text": [
      "{0, 11, 22, 15}\n",
      "{3}\n",
      "{0, 11, 15, 22}\n"
     ]
    }
   ],
   "source": [
    "# Разность \n",
    "print(A - B - C)\n",
    "print(B.difference(A, C))\n",
    "print(A.difference(B, C))"
   ]
  },
  {
   "cell_type": "code",
   "execution_count": 52,
   "id": "73888de9",
   "metadata": {},
   "outputs": [
    {
     "name": "stdout",
     "output_type": "stream",
     "text": [
      "{0, 2, 3, 8, 11, 14, 15, 22}\n",
      "{0, 3, 4, 6, 10, 11, 12, 15, 22}\n",
      "{0, 1, 4, 5, 6, 7, 9, 10, 11, 14, 15, 22}\n"
     ]
    }
   ],
   "source": [
    "# Симметричная разность \n",
    "print(A ^ B ^ C)\n",
    "print(A.symmetric_difference(B))\n",
    "print(A.symmetric_difference(C))"
   ]
  },
  {
   "cell_type": "code",
   "execution_count": 57,
   "id": "ed34040c",
   "metadata": {},
   "outputs": [
    {
     "name": "stdout",
     "output_type": "stream",
     "text": [
      "{2, 4, 6, 8, 10, 12, 14}\n",
      "{1, 2, 3, 4, 5, 6, 7, 8, 9, 10}\n",
      "{0, 1, 4, 5, 6, 7, 9, 10, 11, 14, 15, 22}\n"
     ]
    }
   ],
   "source": [
    "A = A ^ B ^ C\n",
    "B = A ^ B ^ C\n",
    "C = A ^ B ^ C\n",
    "print(A)\n",
    "print(B)\n",
    "print(C)"
   ]
  },
  {
   "cell_type": "code",
   "execution_count": null,
   "id": "b7588688",
   "metadata": {},
   "outputs": [],
   "source": []
  }
 ],
 "metadata": {
  "kernelspec": {
   "display_name": "Python 3 (ipykernel)",
   "language": "python",
   "name": "python3"
  },
  "language_info": {
   "codemirror_mode": {
    "name": "ipython",
    "version": 3
   },
   "file_extension": ".py",
   "mimetype": "text/x-python",
   "name": "python",
   "nbconvert_exporter": "python",
   "pygments_lexer": "ipython3",
   "version": "3.9.7"
  }
 },
 "nbformat": 4,
 "nbformat_minor": 5
}
