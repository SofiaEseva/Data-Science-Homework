{
 "cells": [
  {
   "cell_type": "code",
   "execution_count": 5,
   "id": "e2ec0411",
   "metadata": {},
   "outputs": [],
   "source": [
    "axiom = \"F--F--F\"\n",
    "rules = {\"F\":\"F+F--F+F\"}\n",
    "iterations = 4\n",
    "angle = 60"
   ]
  },
  {
   "cell_type": "code",
   "execution_count": 4,
   "id": "6900be76",
   "metadata": {},
   "outputs": [],
   "source": [
    "axiom = \"FX\"\n",
    "rules = {\"X\":\"X+YF++YF-FX--FXFX-YF+\", \"Y\":\"-FX+YFYF++YF+FX--FX-Y\"}\n",
    "iterations = 3\n",
    "angle = 60"
   ]
  },
  {
   "cell_type": "code",
   "execution_count": 5,
   "id": "e9f5ae93",
   "metadata": {},
   "outputs": [],
   "source": [
    "import turtle\n",
    "\n",
    "\n",
    "def create_l_system(iters, axiom, rules):\n",
    "    start_string = axiom\n",
    "    if iters == 0:\n",
    "        return axiom\n",
    "    end_string = ''\n",
    "    for _ in range(iters):\n",
    "        end_string = ''.join(rules[i] if i in rules else i for i in start_string)\n",
    "        start_string = end_string\n",
    "\n",
    "    return end_string\n",
    "\n",
    "\n",
    "def draw_l_system(t, instructions, angle, distance):\n",
    "    for cmd in instructions:\n",
    "        if cmd == 'F':\n",
    "            t.forward(distance)\n",
    "        elif cmd == '+':\n",
    "            t.right(angle)\n",
    "        elif cmd == '-':\n",
    "            t.left(angle)\n",
    "\n",
    "\n",
    "def main(iterations, axiom, rules, angle, length=8, size=2, y_offset=0,\n",
    "         x_offset=0, offset_angle=0, width=450, height=450):\n",
    "\n",
    "    inst = create_l_system(iterations, axiom, rules)\n",
    "\n",
    "    t = turtle.Turtle()\n",
    "    wn = turtle.Screen()\n",
    "    wn.setup(width, height)\n",
    "\n",
    "    t.up()\n",
    "    t.backward(-x_offset)\n",
    "    t.left(90)\n",
    "    t.backward(-y_offset)\n",
    "    t.left(offset_angle)\n",
    "    t.down()\n",
    "    t.speed(0)\n",
    "    t.pensize(size)\n",
    "    draw_l_system(t, inst, angle, length)\n",
    "    t.hideturtle()\n",
    "\n",
    "    wn.exitonclick()"
   ]
  },
  {
   "cell_type": "markdown",
   "id": "1d13c250",
   "metadata": {},
   "source": [
    "F: ползти вперед\n",
    "+: повернуть вправо\n",
    "-: повернуть влево"
   ]
  },
  {
   "cell_type": "code",
   "execution_count": 6,
   "id": "ca3b342f",
   "metadata": {},
   "outputs": [],
   "source": [
    "if __name__ == '__main__':\n",
    "    main(iterations, axiom, rules, angle)"
   ]
  },
  {
   "cell_type": "markdown",
   "id": "98cd8a7d",
   "metadata": {},
   "source": [
    "# Снежинка Коха"
   ]
  },
  {
   "cell_type": "code",
   "execution_count": 3,
   "id": "92008ea2",
   "metadata": {},
   "outputs": [],
   "source": [
    "axiom = \"F--F--F\"\n",
    "rules = {\"F\":\"F+F--F+F\"}\n",
    "iterations = 4\n",
    "angle = 60"
   ]
  },
  {
   "cell_type": "markdown",
   "id": "6f49cddf",
   "metadata": {},
   "source": [
    "# Анклеты Кришны"
   ]
  },
  {
   "cell_type": "code",
   "execution_count": 4,
   "id": "fdb84bab",
   "metadata": {},
   "outputs": [],
   "source": [
    "axiom = \" -X--X\"\n",
    "rules = {\"X\":\"XFX--XFX\"}\n",
    "iterations = 4\n",
    "angle = 45"
   ]
  },
  {
   "cell_type": "code",
   "execution_count": null,
   "id": "ded4d3db",
   "metadata": {},
   "outputs": [],
   "source": [
    "#Кривая Мура\n",
    "axiom = \"LFL-F-LFL\"\n",
    "rules = {\"L\":\"+RF-LFL-FR+\", \"R\":\"-LF+RFR+FL-\"}\n",
    "iterations = 3\n",
    "angle = 90\n",
    "\n",
    "#Тройная кривая дракона\n",
    "axiom = \"FX+FX+FX\"\n",
    "rules = {\"X\": \"X+YF+\", \"Y\": \"-FX-Y\"}\n",
    "iterations = 7\n",
    "angle = 90\n",
    "\n",
    "#Кривая Леви\n",
    "axiom = \"F\"\n",
    "rules = {\"F\":\"+F--F+\"}\n",
    "iterations = 10\n",
    "angle = 45\n",
    "\n",
    "#Кольца\n",
    "axiom = \"F+F+F+F\"\n",
    "rules = {\"F\":\"FF+F+F+F+F+F-F\"}\n",
    "iterations = 2\n",
    "angle = 90\n",
    "\n",
    "#Кривая Пеано-Госпера\n",
    "axiom = \"FX\"\n",
    "rules = {\"X\":\"X+YF++YF-FX--FXFX-YF+\", \"Y\":\"-FX+YFYF++YF+FX--FX-Y\"}\n",
    "iterations = 3\n",
    "angle = 60"
   ]
  }
 ],
 "metadata": {
  "kernelspec": {
   "display_name": "Python 3 (ipykernel)",
   "language": "python",
   "name": "python3"
  },
  "language_info": {
   "codemirror_mode": {
    "name": "ipython",
    "version": 3
   },
   "file_extension": ".py",
   "mimetype": "text/x-python",
   "name": "python",
   "nbconvert_exporter": "python",
   "pygments_lexer": "ipython3",
   "version": "3.9.7"
  }
 },
 "nbformat": 4,
 "nbformat_minor": 5
}
