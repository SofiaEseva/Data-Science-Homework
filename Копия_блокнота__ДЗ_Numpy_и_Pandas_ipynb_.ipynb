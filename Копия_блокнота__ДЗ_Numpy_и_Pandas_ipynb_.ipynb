{
  "cells": [
    {
      "cell_type": "markdown",
      "id": "nearby-array",
      "metadata": {
        "id": "nearby-array"
      },
      "source": [
        "### Numpy"
      ]
    },
    {
      "cell_type": "markdown",
      "id": "durable-freeware",
      "metadata": {
        "id": "durable-freeware"
      },
      "source": [
        "1. Вычислите A + B, A - B\n",
        " \n",
        " $\\\\\n",
        "A = \\left(\n",
        "\\begin{array}{cccc}\n",
        "1 & -2 & 4\\\\\n",
        "2 & 0 & -1\\\\\n",
        "\\end{array}\n",
        "\\right), B = \\left(\n",
        "\\begin{array}{cccc}\n",
        "5 & 2 & 3\\\\\n",
        "4 & 6 & 2\\\\\n",
        "\\end{array}\n",
        "\\right)$"
      ]
    },
    {
      "cell_type": "code",
      "source": [
        "import numpy as np"
      ],
      "metadata": {
        "id": "x9D_0SP-ZCfF"
      },
      "id": "x9D_0SP-ZCfF",
      "execution_count": null,
      "outputs": []
    },
    {
      "cell_type": "code",
      "source": [
        "a = np.array([[1, -2, 4], [2, 0, -1]])\n",
        "b = np.array([[5, 2, 3], [4, 6, 2]])\n",
        "print(a+b)\n",
        "print(a-b)"
      ],
      "metadata": {
        "colab": {
          "base_uri": "https://localhost:8080/"
        },
        "id": "36kwg1-RZMht",
        "outputId": "d751efd1-2800-4a67-d04d-de1c3847fdb2"
      },
      "id": "36kwg1-RZMht",
      "execution_count": null,
      "outputs": [
        {
          "output_type": "stream",
          "name": "stdout",
          "text": [
            "[[6 0 7]\n",
            " [6 6 1]]\n",
            "[[-4 -4  1]\n",
            " [-2 -6 -3]]\n"
          ]
        }
      ]
    },
    {
      "cell_type": "markdown",
      "id": "certified-andrew",
      "metadata": {
        "id": "certified-andrew"
      },
      "source": [
        "2. Найдите матрицу С = A - 3B\n",
        " \n",
        " $\\\\\n",
        "A = \\left(\n",
        "\\begin{array}{cccc}\n",
        "1 & 2 \\\\\n",
        "2 & -1\\\\\n",
        "3 & 0\\\\\n",
        "\\end{array}\n",
        "\\right), B = \\left(\n",
        "\\begin{array}{cccc}\n",
        "-1 & 1 \\\\\n",
        "1 & 2\\\\\n",
        "0 & 0\\\\\n",
        "\\end{array}\n",
        "\\right)$"
      ]
    },
    {
      "cell_type": "code",
      "source": [
        "a = np.array([[1, 2], [2, -1], [3, 0]])\n",
        "b = np.array([[-1, 1], [1, 2], [0, 0]])\n",
        "c =  a - b*3\n",
        "print(c)"
      ],
      "metadata": {
        "colab": {
          "base_uri": "https://localhost:8080/"
        },
        "id": "C-8QUT3_bJDk",
        "outputId": "310cd644-12a3-4b60-a79b-a1b995cb2a67"
      },
      "id": "C-8QUT3_bJDk",
      "execution_count": null,
      "outputs": [
        {
          "output_type": "stream",
          "name": "stdout",
          "text": [
            "[[ 4 -1]\n",
            " [-1 -7]\n",
            " [ 3  0]]\n"
          ]
        }
      ]
    },
    {
      "cell_type": "markdown",
      "id": "motivated-mason",
      "metadata": {
        "id": "motivated-mason"
      },
      "source": [
        "3. Вычислите С = AB\n",
        " \n",
        " $\\\\\n",
        "A = \\left(\n",
        "\\begin{array}{cccc}\n",
        "1 & -1 \\\\\n",
        "2 & 0\\\\\n",
        "3 & 0\\\\\n",
        "\\end{array}\n",
        "\\right), B = \\left(\n",
        "\\begin{array}{cccc}\n",
        "1 & 1 \\\\\n",
        "2 & 0\\\\\n",
        "\\end{array}\n",
        "\\right)$"
      ]
    },
    {
      "cell_type": "code",
      "source": [
        "a = np.array([[1, -1], [2, 0], [3, 0]])\n",
        "b = np.array([[1, 1], [2, 0]])\n",
        "c =  a@b\n",
        "print(c)"
      ],
      "metadata": {
        "colab": {
          "base_uri": "https://localhost:8080/"
        },
        "id": "VQ9mzeiObeA2",
        "outputId": "f43cb42c-4292-4e2d-aae5-90cab41f4755"
      },
      "id": "VQ9mzeiObeA2",
      "execution_count": null,
      "outputs": [
        {
          "output_type": "stream",
          "name": "stdout",
          "text": [
            "[[-1  1]\n",
            " [ 2  2]\n",
            " [ 3  3]]\n"
          ]
        }
      ]
    },
    {
      "cell_type": "markdown",
      "id": "chemical-thomson",
      "metadata": {
        "id": "chemical-thomson"
      },
      "source": [
        "4. Вычислите определитель матрицы А\n",
        " \n",
        " $\\\\\n",
        "A = \\left(\n",
        "\\begin{array}{cccc}\n",
        "6 & -1 & 4\\\\\n",
        "2 & 1 & 10\\\\\n",
        "8 & 0 & 2\\\\\n",
        "\\end{array}\n",
        "\\right)$"
      ]
    },
    {
      "cell_type": "code",
      "source": [
        "a = np.array([[6, -1, 4], [2, 1, 10], [8, 0, 2]])\n",
        "np.linalg.det(a)"
      ],
      "metadata": {
        "colab": {
          "base_uri": "https://localhost:8080/"
        },
        "id": "mYdtVlN2b0eO",
        "outputId": "d214ca61-2da1-4939-bb9f-655ef23afb9f"
      },
      "id": "mYdtVlN2b0eO",
      "execution_count": null,
      "outputs": [
        {
          "output_type": "execute_result",
          "data": {
            "text/plain": [
              "-95.99999999999999"
            ]
          },
          "metadata": {},
          "execution_count": 23
        }
      ]
    },
    {
      "cell_type": "markdown",
      "id": "unlimited-throw",
      "metadata": {
        "id": "unlimited-throw"
      },
      "source": [
        "5. Вычислите матрицу, обратную матрице А. И покажите, что она действительно является обратной\n",
        " \n",
        " $\\\\\n",
        "A = \\left(\n",
        "\\begin{array}{cccc}\n",
        "3 & 3 & -1\\\\\n",
        "4 & 1 & 3\\\\\n",
        "1 & -2 & -2\\\\\n",
        "\\end{array}\n",
        "\\right)$"
      ]
    },
    {
      "cell_type": "code",
      "execution_count": null,
      "id": "about-national",
      "metadata": {
        "id": "about-national",
        "colab": {
          "base_uri": "https://localhost:8080/"
        },
        "outputId": "ccee5eb1-6ab5-470d-b0ed-2297c3b6a486"
      },
      "outputs": [
        {
          "output_type": "stream",
          "name": "stdout",
          "text": [
            "[[ 0.07407407  0.14814815  0.18518519]\n",
            " [ 0.2037037  -0.09259259 -0.24074074]\n",
            " [-0.16666667  0.16666667 -0.16666667]]\n",
            "[[ 3.  3. -1.]\n",
            " [ 4.  1.  3.]\n",
            " [ 1. -2. -2.]]\n"
          ]
        }
      ],
      "source": [
        "a = np.array([[3, 3, -1], [4, 1, 3], [1, -2, -2]])\n",
        "a_inv = np.linalg.inv(a)\n",
        "a_inv_inv = np.linalg.inv(a_inv)\n",
        "print(a_inv)\n",
        "print(a_inv_inv)"
      ]
    },
    {
      "cell_type": "code",
      "source": [],
      "metadata": {
        "id": "fh1DbPbIcduE"
      },
      "id": "fh1DbPbIcduE",
      "execution_count": null,
      "outputs": []
    }
  ],
  "metadata": {
    "kernelspec": {
      "display_name": "Python 3",
      "language": "python",
      "name": "python3"
    },
    "language_info": {
      "codemirror_mode": {
        "name": "ipython",
        "version": 3
      },
      "file_extension": ".py",
      "mimetype": "text/x-python",
      "name": "python",
      "nbconvert_exporter": "python",
      "pygments_lexer": "ipython3",
      "version": "3.8.3"
    },
    "colab": {
      "provenance": []
    }
  },
  "nbformat": 4,
  "nbformat_minor": 5
}