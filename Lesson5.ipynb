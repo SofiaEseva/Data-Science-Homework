{
 "cells": [
  {
   "cell_type": "code",
   "execution_count": 34,
   "id": "742657e4",
   "metadata": {},
   "outputs": [],
   "source": [
    "%matplotlib inline\n",
    "import numpy as np\n",
    "\n",
    "import matplotlib.pyplot as plt\n",
    "import matplotlib.mlab as mlab\n",
    "import itertools"
   ]
  },
  {
   "cell_type": "code",
   "execution_count": 7,
   "id": "508180a0",
   "metadata": {},
   "outputs": [
    {
     "name": "stdout",
     "output_type": "stream",
     "text": [
      "решка\n",
      "решка\n",
      "решка\n",
      "орел\n",
      "орел\n"
     ]
    }
   ],
   "source": [
    "for i in range(0, 5):\n",
    "    x=np.random.uniform(0, 1)\n",
    "    if x<0.5:\n",
    "        print('орел')\n",
    "    else:\n",
    "        print('решка')"
   ]
  },
  {
   "cell_type": "code",
   "execution_count": 74,
   "id": "8e2f2f82",
   "metadata": {},
   "outputs": [
    {
     "name": "stdout",
     "output_type": "stream",
     "text": [
      "49 47 4\n",
      "1.0\n"
     ]
    }
   ],
   "source": [
    "#Задание 1\n",
    "a, b, c = 0, 0, 0\n",
    "n=100\n",
    "for i in range(0, n):\n",
    "    x=np.random.randint(0, 37)\n",
    "    if x>0 and x<19:\n",
    "        #print('красное')\n",
    "        a=a+1\n",
    "    elif x>=19:\n",
    "        #print('черное')\n",
    "        b=b+1\n",
    "    elif x==0:\n",
    "        #print('зеро')\n",
    "        c=c+1\n",
    "print(a, b, c)\n",
    "\n",
    "#Задание 2.1\n",
    "P_a = a/n\n",
    "P_b = b/n\n",
    "P_c = c/n\n",
    "print(P_a+P_b+P_c)"
   ]
  },
  {
   "cell_type": "code",
   "execution_count": 46,
   "id": "565d5854",
   "metadata": {
    "scrolled": true
   },
   "outputs": [
    {
     "data": {
      "text/plain": [
       "Text(0.5, 1.0, 'Гистограмма')"
      ]
     },
     "execution_count": 46,
     "metadata": {},
     "output_type": "execute_result"
    },
    {
     "data": {
      "image/png": "[encoded data removed]",
      "text/plain": [
       "<Figure size 432x288 with 1 Axes>"
      ]
     },
     "metadata": {
      "needs_background": "light"
     },
     "output_type": "display_data"
    }
   ],
   "source": [
    "#Задание 2.2\n",
    "n=1000\n",
    "x0=np.random.rand(n)\n",
    "x1=np.random.rand(n)\n",
    "x2=np.random.rand(n)\n",
    "x3=np.random.rand(n)\n",
    "x4=np.random.rand(n)\n",
    "x5=np.random.rand(n)\n",
    "x6=np.random.rand(n)\n",
    "x7=np.random.rand(n)\n",
    "x8=np.random.rand(n)\n",
    "x9=np.random.rand(n)\n",
    "x=x0+x1+x2+x3+x4+x5+x6+x7+x8+x9\n",
    "num_bins=15\n",
    "n, bins, patches=plt.hist(x, num_bins) \n",
    "plt.xlabel('x')\n",
    "plt.ylabel('Вероятность')\n",
    "plt.title('Гистограмма')"
   ]
  },
  {
   "cell_type": "code",
   "execution_count": 72,
   "id": "23c5e8de",
   "metadata": {},
   "outputs": [
    {
     "name": "stdout",
     "output_type": "stream",
     "text": [
      "Если 4 человека будут подбрасывать монетку 10000 раз вероятность выпадения только решки на каждом шаге равна 0.06, вероятность выпадения двух орлов и двух решек на каждом шаге равна 0.3756, вероятность выпадения четырех орлов на каждом шаге равна 0.0595\n"
     ]
    }
   ],
   "source": [
    "#Задание 3.1\n",
    "k, m, l, n = 0, 0, 0, 10000\n",
    "a = np.random.randint(0, 2, n)\n",
    "b = np.random.randint(0, 2, n)\n",
    "c = np.random.randint(0, 2, n)\n",
    "d = np.random.randint(0, 2, n)\n",
    "x = a + b + c + d\n",
    "for i in range(0, n):\n",
    "    if x[i] == 2:\n",
    "        k += 1\n",
    "    elif x[i] == 0:\n",
    "        m += 1\n",
    "    elif x[i] == 4:\n",
    "        l += 1\n",
    "#print(a, b, c, d)\n",
    "#print(x)\n",
    "print('В 4 испытаниях по подбрасыванию монетки', n, 'раз вероятность выпадения только решки на каждом шаге равна', \n",
    "      str(m/n) + ', вероятность выпадения двух орлов и двух решек на каждом шаге равна', str(k/n) +\n",
    "      ', вероятность выпадения четырех орлов на каждом шаге равна', l/n)"
   ]
  },
  {
   "cell_type": "code",
   "execution_count": 78,
   "id": "de5c55c2",
   "metadata": {},
   "outputs": [
    {
     "name": "stdout",
     "output_type": "stream",
     "text": [
      "В 4 играх в рулетку при подкрасывании шарика 10000 раз вероятность выпадения только зеро на каждом шаге равна 0.0\n"
     ]
    }
   ],
   "source": [
    "#Задание 3.2\n",
    "k, n = 0, 10000\n",
    "a = np.random.randint(0, 37, n)\n",
    "b = np.random.randint(0, 37, n)\n",
    "c = np.random.randint(0, 37, n)\n",
    "d = np.random.randint(0, 37, n)\n",
    "x = a + b + c + d\n",
    "for i in range(0, n):\n",
    "    if x[i] == 0:\n",
    "        k += 1\n",
    "#print(a, b, c, d)\n",
    "#print(x)\n",
    "print('В 4 играх в рулетку при подкрасывании шарика', n, 'раз вероятность выпадения только зеро на каждом шаге равна', k/n)"
   ]
  },
  {
   "cell_type": "code",
   "execution_count": null,
   "id": "61a8c56e",
   "metadata": {},
   "outputs": [],
   "source": []
  },
  {
   "cell_type": "code",
   "execution_count": null,
   "id": "c1854b69",
   "metadata": {},
   "outputs": [],
   "source": []
  },
  {
   "cell_type": "code",
   "execution_count": null,
   "id": "434764db",
   "metadata": {},
   "outputs": [],
   "source": []
  },
  {
   "cell_type": "code",
   "execution_count": null,
   "id": "f5a7cd2e",
   "metadata": {},
   "outputs": [],
   "source": []
  }
 ],
 "metadata": {
  "kernelspec": {
   "display_name": "Python 3 (ipykernel)",
   "language": "python",
   "name": "python3"
  },
  "language_info": {
   "codemirror_mode": {
    "name": "ipython",
    "version": 3
   },
   "file_extension": ".py",
   "mimetype": "text/x-python",
   "name": "python",
   "nbconvert_exporter": "python",
   "pygments_lexer": "ipython3",
   "version": "3.9.7"
  }
 },
 "nbformat": 4,
 "nbformat_minor": 5
}
